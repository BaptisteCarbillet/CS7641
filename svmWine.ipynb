{
 "cells": [
  {
   "cell_type": "code",
   "execution_count": 1,
   "metadata": {},
   "outputs": [],
   "source": [
    "import numpy as np\n",
    "import pandas as pd\n",
    "import matplotlib.pyplot as plt\n"
   ]
  },
  {
   "cell_type": "code",
   "execution_count": 2,
   "metadata": {},
   "outputs": [],
   "source": [
    "df = pd.read_csv('/Users/baptistecarbillet/Documents/MachineLearning1/winequality-white.csv',sep=';')\n",
    "df['y'] = df['quality'].apply(lambda x: 1 if x >= 7 else 0)\n",
    "df = df.drop('quality',axis=1)\n",
    "\n",
    "X,y = np.array(df.drop('y',axis=1)),np.array(df['y'])\n",
    "\n",
    "#Normalize X\n",
    "X = (X - np.mean(X,axis=0))/np.std(X,axis=0)\n",
    "\n",
    "from sklearn.model_selection import train_test_split\n",
    "\n",
    "random_state = 75 #Paris\n",
    "\n",
    "X_train,X_test,y_train,y_test = train_test_split(X,y,test_size=0.2,random_state=random_state)"
   ]
  },
  {
   "cell_type": "code",
   "execution_count": 21,
   "metadata": {},
   "outputs": [
    {
     "data": {
      "text/plain": [
       "(4898, 12)"
      ]
     },
     "execution_count": 21,
     "metadata": {},
     "output_type": "execute_result"
    }
   ],
   "source": [
    "df.shape"
   ]
  },
  {
   "cell_type": "code",
   "execution_count": 3,
   "metadata": {},
   "outputs": [
    {
     "name": "stdout",
     "output_type": "stream",
     "text": [
      "Train accuracy: 0.37 (+/- 0.07)\n",
      "Test accuracy: 0.30 (+/- 0.05)\n"
     ]
    }
   ],
   "source": [
    "from sklearn.svm import SVC\n",
    "\n",
    "model = SVC(kernel='poly',gamma='auto',random_state=random_state)\n",
    "\n",
    "\n",
    "\n",
    "from sklearn.model_selection import KFold, cross_validate\n",
    "n_splits = 5\n",
    "kf = KFold(n_splits=n_splits, shuffle=True,random_state=random_state)\n",
    "\n",
    "\n",
    "scoring=('f1')\n",
    "\n",
    "scores = cross_validate(model, X_train, y_train, cv=kf, scoring=scoring, return_train_score=True)\n",
    "\n",
    "print(\"Train accuracy: %0.2f (+/- %0.2f)\" % (scores['train_score'].mean(), scores['train_score'].std() * 2))\n",
    "print(\"Test accuracy: %0.2f (+/- %0.2f)\" % (scores['test_score'].mean(), scores['test_score'].std() * 2))"
   ]
  },
  {
   "cell_type": "code",
   "execution_count": 4,
   "metadata": {},
   "outputs": [
    {
     "name": "stdout",
     "output_type": "stream",
     "text": [
      "Train accuracy: 0.50 (+/- 0.03)\n",
      "Test accuracy: 0.44 (+/- 0.04)\n"
     ]
    }
   ],
   "source": [
    "from sklearn.svm import SVC\n",
    "\n",
    "model = SVC(kernel='rbf',gamma='auto',random_state=random_state)\n",
    "\n",
    "\n",
    "\n",
    "from sklearn.model_selection import KFold, cross_validate\n",
    "n_splits = 5\n",
    "kf = KFold(n_splits=n_splits, shuffle=True,random_state=random_state)\n",
    "\n",
    "\n",
    "scoring=('f1')\n",
    "\n",
    "scores = cross_validate(model, X_train, y_train, cv=kf, scoring=scoring, return_train_score=True)\n",
    "\n",
    "print(\"Train accuracy: %0.2f (+/- %0.2f)\" % (scores['train_score'].mean(), scores['train_score'].std() * 2))\n",
    "print(\"Test accuracy: %0.2f (+/- %0.2f)\" % (scores['test_score'].mean(), scores['test_score'].std() * 2))"
   ]
  },
  {
   "cell_type": "markdown",
   "metadata": {},
   "source": [
    "# test different kernel"
   ]
  },
  {
   "cell_type": "code",
   "execution_count": 15,
   "metadata": {},
   "outputs": [],
   "source": [
    "train_acc_rbf = []\n",
    "val_acc_rbf = []\n",
    "\n",
    "train_acc_poly  = []\n",
    "val_acc_poly = []\n",
    "\n",
    "model = SVC(kernel='rbf',gamma='auto',random_state=random_state,C=c)\n",
    "scores = cross_validate(model, X_train, y_train, cv=kf, scoring=scoring, return_train_score=True)\n",
    "train_acc_rbf.append(scores['train_score'].mean())\n",
    "val_acc_rbf.append(scores['test_score'].mean())\n",
    "\n",
    "for p in range(1,8):\n",
    "    \n",
    "    \n",
    "    \n",
    "    model = SVC(kernel='poly',gamma='auto',random_state=random_state,degree=p)\n",
    "    scores = cross_validate(model, X_train, y_train, cv=kf, scoring=scoring, return_train_score=True)\n",
    "    train_acc_poly.append(scores['train_score'].mean())\n",
    "    val_acc_poly.append(scores['test_score'].mean())"
   ]
  },
  {
   "cell_type": "markdown",
   "metadata": {},
   "source": [
    "## Test value of C"
   ]
  },
  {
   "cell_type": "code",
   "execution_count": 5,
   "metadata": {},
   "outputs": [
    {
     "name": "stdout",
     "output_type": "stream",
     "text": [
      "0.001\n",
      "0.0012216773489967918\n",
      "0.0014924955450518291\n",
      "0.0018233480008684403\n",
      "0.0022275429519995563\n",
      "0.002721338768375309\n",
      "0.0033245979322709418\n",
      "0.00406158598837698\n",
      "0.004961947603002903\n",
      "0.006061898993497572\n",
      "0.007405684692262435\n",
      "0.009047357242349292\n",
      "0.011052951411260215\n",
      "0.013503140378698729\n",
      "0.016496480740980205\n",
      "0.02015337685941733\n",
      "0.024620924014946255\n",
      "0.03007882518043099\n",
      "0.03674661940736688\n",
      "0.04489251258218605\n",
      "0.05484416576121018\n",
      "0.06700187503509587\n",
      "0.08185467307069029\n",
      "0.1\n",
      "0.12216773489967918\n",
      "0.1492495545051829\n",
      "0.18233480008684405\n",
      "0.22275429519995563\n",
      "0.2721338768375309\n",
      "0.3324597932270942\n",
      "0.40615859883769795\n",
      "0.4961947603002903\n",
      "0.6061898993497572\n",
      "0.7405684692262434\n",
      "0.9047357242349293\n",
      "1.105295141126021\n",
      "1.3503140378698721\n",
      "1.6496480740980206\n",
      "2.015337685941733\n",
      "2.4620924014946257\n",
      "3.007882518043099\n",
      "3.674661940736688\n",
      "4.489251258218603\n",
      "5.484416576121015\n",
      "6.70018750350959\n",
      "8.185467307069029\n",
      "10.0\n",
      "12.216773489967906\n",
      "14.92495545051829\n",
      "18.233480008684424\n",
      "22.275429519995566\n",
      "27.213387683753087\n",
      "33.24597932270938\n",
      "40.615859883769794\n",
      "49.61947603002898\n",
      "60.61898993497572\n",
      "74.05684692262442\n",
      "90.47357242349293\n",
      "110.52951411260221\n",
      "135.03140378698723\n",
      "164.96480740980206\n",
      "201.5337685941731\n",
      "246.20924014946254\n",
      "300.7882518043096\n",
      "367.4661940736688\n",
      "448.9251258218608\n",
      "548.4416576121015\n",
      "670.0187503509591\n",
      "818.546730706902\n",
      "1000.0\n"
     ]
    }
   ],
   "source": [
    "C = np.logspace(-3,3,70)\n",
    "\n",
    "train_acc_rbf = []\n",
    "val_acc_rbf = []\n",
    "\n",
    "train_acc_poly  = []\n",
    "val_acc_poly = []\n",
    "\n",
    "for c in C:\n",
    "    print(c)\n",
    "    model = SVC(kernel='rbf',gamma='auto',random_state=random_state,C=c)\n",
    "    scores = cross_validate(model, X_train, y_train, cv=kf, scoring=scoring, return_train_score=True)\n",
    "    train_acc_rbf.append(scores['train_score'].mean())\n",
    "    val_acc_rbf.append(scores['test_score'].mean())\n",
    "    \n",
    "    model = SVC(kernel='poly',gamma='auto',random_state=random_state,C=c)\n",
    "    scores = cross_validate(model, X_train, y_train, cv=kf, scoring=scoring, return_train_score=True)\n",
    "    train_acc_poly.append(scores['train_score'].mean())\n",
    "    val_acc_poly.append(scores['test_score'].mean())\n",
    "    \n",
    "    "
   ]
  },
  {
   "cell_type": "code",
   "execution_count": 6,
   "metadata": {},
   "outputs": [
    {
     "data": {
      "image/png": "[encoded data removed]",
      "text/plain": [
       "<Figure size 640x480 with 1 Axes>"
      ]
     },
     "metadata": {},
     "output_type": "display_data"
    }
   ],
   "source": [
    "fig,ax = plt.subplots()\n",
    "\n",
    "#plot train and validation accuracy\n",
    "ax.plot(C,train_acc_rbf,label='train rbf')\n",
    "ax.plot(C,val_acc_rbf,label='validation rbf')\n",
    "ax.plot(C,train_acc_poly,label='train poly')\n",
    "ax.plot(C,val_acc_poly,label='validation poly')\n",
    "ax.set_xscale('log')\n",
    "ax.set_xlabel('C')\n",
    "ax.set_ylabel('F1 score')\n",
    "ax.legend()\n",
    "plt.show()"
   ]
  },
  {
   "cell_type": "code",
   "execution_count": 13,
   "metadata": {},
   "outputs": [
    {
     "name": "stdout",
     "output_type": "stream",
     "text": [
      "1000.0\n",
      "1000.0\n",
      "1000.0\n",
      "1000.0\n",
      "1000.0\n",
      "1000.0\n",
      "1000.0\n",
      "1000.0\n",
      "1000.0\n",
      "1000.0\n"
     ]
    }
   ],
   "source": [
    "P = [i for i in range(1,11)]\n",
    "\n",
    "train_acc = []\n",
    "val_acc = []\n",
    "\n",
    "for p in P:\n",
    "    \n",
    "    model = SVC(kernel='poly',gamma='auto',random_state=random_state,degree=p)\n",
    "    scores = cross_validate(model, X_train, y_train, cv=kf, scoring=scoring, return_train_score=True)\n",
    "    train_acc.append(scores['train_score'].mean())\n",
    "    val_acc.append(scores['test_score'].mean())"
   ]
  },
  {
   "cell_type": "code",
   "execution_count": 14,
   "metadata": {},
   "outputs": [
    {
     "data": {
      "image/png": "[encoded data removed]",
      "text/plain": [
       "<Figure size 640x480 with 1 Axes>"
      ]
     },
     "metadata": {},
     "output_type": "display_data"
    }
   ],
   "source": [
    "fig,ax = plt.subplots()\n",
    "\n",
    "#plot train and validation accuracy\n",
    "ax.plot(P,train_acc,label='train')\n",
    "ax.plot(P,val_acc,label='validation')\n",
    "ax.set_xlabel('degree')\n",
    "ax.set_ylabel('F1 score')\n",
    "ax.legend()\n",
    "plt.show()"
   ]
  },
  {
   "cell_type": "markdown",
   "metadata": {},
   "source": [
    "## grid search"
   ]
  },
  {
   "cell_type": "code",
   "execution_count": 8,
   "metadata": {},
   "outputs": [
    {
     "data": {
      "text/plain": [
       "{'C': array([1.e-03, 1.e-02, 1.e-01, 1.e+00, 1.e+01, 1.e+02]),\n",
       " 'gamma': array([1.e-04, 1.e-03, 1.e-02, 1.e-01, 1.e+00, 1.e+01])}"
      ]
     },
     "execution_count": 8,
     "metadata": {},
     "output_type": "execute_result"
    }
   ],
   "source": [
    "from sklearn.svm import SVC\n",
    "\n",
    "rbf_clf = SVC(kernel='rbf', random_state=75)\n",
    "\n",
    "rbf_param_grid = {\n",
    "    'C': np.logspace(-3, 2, 6),\n",
    "    \n",
    "    'gamma': np.logspace(-4, 1, 6),\n",
    "}\n",
    "rbf_param_grid"
   ]
  },
  {
   "cell_type": "code",
   "execution_count": 11,
   "metadata": {},
   "outputs": [
    {
     "name": "stdout",
     "output_type": "stream",
     "text": [
      "Fitting 4 folds for each of 36 candidates, totalling 144 fits\n",
      "[CV 1/4; 1/36] START C=0.001, gamma=0.0001......................................\n",
      "[CV 2/4; 1/36] START C=0.001, gamma=0.0001......................................\n",
      "[CV 3/4; 1/36] START C=0.001, gamma=0.0001......................................\n",
      "[CV 4/4; 1/36] START C=0.001, gamma=0.0001......................................\n",
      "[CV 1/4; 2/36] START C=0.001, gamma=0.001.......................................\n",
      "[CV 2/4; 2/36] START C=0.001, gamma=0.001.......................................\n",
      "[CV 3/4; 2/36] START C=0.001, gamma=0.001.......................................\n",
      "[CV 4/4; 2/36] START C=0.001, gamma=0.001.......................................\n",
      "[CV 1/4; 3/36] START C=0.001, gamma=0.01........................................\n",
      "[CV 2/4; 3/36] START C=0.001, gamma=0.01........................................\n",
      "[CV 1/4; 1/36] END C=0.001, gamma=0.0001;, score=(train=0.000, test=0.000) total time=   0.2s\n",
      "[CV 3/4; 3/36] START C=0.001, gamma=0.01........................................\n",
      "[CV 2/4; 1/36] END C=0.001, gamma=0.0001;, score=(train=0.000, test=0.000) total time=   0.3s\n",
      "[CV 4/4; 3/36] START C=0.001, gamma=0.01........................................\n",
      "[CV 4/4; 1/36] END C=0.001, gamma=0.0001;, score=(train=0.000, test=0.000) total time=   0.2s\n",
      "[CV 4/4; 2/36] END C=0.001, gamma=0.001;, score=(train=0.000, test=0.000) total time=   0.2s\n",
      "[CV 1/4; 4/36] START C=0.001, gamma=0.1.........................................\n",
      "[CV 2/4; 4/36] START C=0.001, gamma=0.1.........................................\n",
      "[CV 3/4; 1/36] END C=0.001, gamma=0.0001;, score=(train=0.000, test=0.000) total time=   0.3s\n",
      "[CV 3/4; 4/36] START C=0.001, gamma=0.1.........................................\n",
      "[CV 2/4; 3/36] END C=0.001, gamma=0.01;, score=(train=0.000, test=0.000) total time=   0.2s\n",
      "[CV 4/4; 4/36] START C=0.001, gamma=0.1.........................................\n",
      "[CV 1/4; 2/36] END C=0.001, gamma=0.001;, score=(train=0.000, test=0.000) total time=   0.2s\n",
      "[CV 1/4; 5/36] START C=0.001, gamma=1.0.........................................\n",
      "[CV 3/4; 2/36] END C=0.001, gamma=0.001;, score=(train=0.000, test=0.000) total time=   0.2s\n",
      "[CV 2/4; 5/36] START C=0.001, gamma=1.0.........................................\n",
      "[CV 1/4; 3/36] END C=0.001, gamma=0.01;, score=(train=0.000, test=0.000) total time=   0.2s\n",
      "[CV 3/4; 5/36] START C=0.001, gamma=1.0.........................................\n",
      "[CV 2/4; 2/36] END C=0.001, gamma=0.001;, score=(train=0.000, test=0.000) total time=   0.2s\n",
      "[CV 4/4; 5/36] START C=0.001, gamma=1.0.........................................\n",
      "[CV 3/4; 3/36] END C=0.001, gamma=0.01;, score=(train=0.000, test=0.000) total time=   0.2s\n",
      "[CV 1/4; 6/36] START C=0.001, gamma=10.0........................................\n",
      "[CV 4/4; 3/36] END C=0.001, gamma=0.01;, score=(train=0.000, test=0.000) total time=   0.2s\n",
      "[CV 2/4; 6/36] START C=0.001, gamma=10.0........................................\n",
      "[CV 2/4; 4/36] END C=0.001, gamma=0.1;, score=(train=0.000, test=0.000) total time=   0.2s\n",
      "[CV 1/4; 4/36] END C=0.001, gamma=0.1;, score=(train=0.000, test=0.000) total time=   0.2s\n",
      "[CV 3/4; 6/36] START C=0.001, gamma=10.0........................................\n",
      "[CV 4/4; 6/36] START C=0.001, gamma=10.0........................................\n",
      "[CV 4/4; 4/36] END C=0.001, gamma=0.1;, score=(train=0.000, test=0.000) total time=   0.2s\n",
      "[CV 1/4; 7/36] START C=0.01, gamma=0.0001.......................................\n",
      "[CV 3/4; 4/36] END C=0.001, gamma=0.1;, score=(train=0.000, test=0.000) total time=   0.2s\n",
      "[CV 2/4; 7/36] START C=0.01, gamma=0.0001.......................................\n",
      "[CV 3/4; 5/36] END C=0.001, gamma=1.0;, score=(train=0.000, test=0.000) total time=   0.2s\n",
      "[CV 1/4; 5/36] END C=0.001, gamma=1.0;, score=(train=0.000, test=0.000) total time=   0.2s\n",
      "[CV 3/4; 7/36] START C=0.01, gamma=0.0001.......................................\n",
      "[CV 4/4; 7/36] START C=0.01, gamma=0.0001.......................................\n",
      "[CV 4/4; 5/36] END C=0.001, gamma=1.0;, score=(train=0.000, test=0.000) total time=   0.2s\n",
      "[CV 2/4; 5/36] END C=0.001, gamma=1.0;, score=(train=0.000, test=0.000) total time=   0.2s\n",
      "[CV 1/4; 8/36] START C=0.01, gamma=0.001........................................\n",
      "[CV 2/4; 8/36] START C=0.01, gamma=0.001........................................\n",
      "[CV 1/4; 6/36] END C=0.001, gamma=10.0;, score=(train=0.000, test=0.000) total time=   0.2s\n",
      "[CV 3/4; 8/36] START C=0.01, gamma=0.001........................................\n",
      "[CV 2/4; 6/36] END C=0.001, gamma=10.0;, score=(train=0.000, test=0.000) total time=   0.2s\n",
      "[CV 4/4; 8/36] START C=0.01, gamma=0.001........................................\n",
      "[CV 1/4; 7/36] END C=0.01, gamma=0.0001;, score=(train=0.000, test=0.000) total time=   0.2s\n",
      "[CV 1/4; 9/36] START C=0.01, gamma=0.01.........................................\n",
      "[CV 1/4; 8/36] END C=0.01, gamma=0.001;, score=(train=0.000, test=0.000) total time=   0.2s\n",
      "[CV 2/4; 9/36] START C=0.01, gamma=0.01.........................................\n",
      "[CV 4/4; 7/36] END C=0.01, gamma=0.0001;, score=(train=0.000, test=0.000) total time=   0.3s\n",
      "[CV 3/4; 9/36] START C=0.01, gamma=0.01.........................................\n",
      "[CV 2/4; 7/36] END C=0.01, gamma=0.0001;, score=(train=0.000, test=0.000) total time=   0.2s\n",
      "[CV 3/4; 7/36] END C=0.01, gamma=0.0001;, score=(train=0.000, test=0.000) total time=   0.2s\n",
      "[CV 4/4; 9/36] START C=0.01, gamma=0.01.........................................\n",
      "[CV 1/4; 10/36] START C=0.01, gamma=0.1.........................................\n",
      "[CV 3/4; 6/36] END C=0.001, gamma=10.0;, score=(train=0.000, test=0.000) total time=   0.3s\n",
      "[CV 2/4; 10/36] START C=0.01, gamma=0.1.........................................\n",
      "[CV 4/4; 6/36] END C=0.001, gamma=10.0;, score=(train=0.000, test=0.000) total time=   0.3s\n",
      "[CV 3/4; 10/36] START C=0.01, gamma=0.1.........................................\n",
      "[CV 2/4; 8/36] END C=0.01, gamma=0.001;, score=(train=0.000, test=0.000) total time=   0.3s\n",
      "[CV 4/4; 10/36] START C=0.01, gamma=0.1.........................................\n",
      "[CV 4/4; 8/36] END C=0.01, gamma=0.001;, score=(train=0.000, test=0.000) total time=   0.2s\n",
      "[CV 1/4; 11/36] START C=0.01, gamma=1.0.........................................\n",
      "[CV 3/4; 8/36] END C=0.01, gamma=0.001;, score=(train=0.000, test=0.000) total time=   0.2s\n",
      "[CV 2/4; 11/36] START C=0.01, gamma=1.0.........................................\n",
      "[CV 3/4; 9/36] END C=0.01, gamma=0.01;, score=(train=0.000, test=0.000) total time=   0.2s\n",
      "[CV 1/4; 10/36] END C=0.01, gamma=0.1;, score=(train=0.000, test=0.000) total time=   0.2s\n",
      "[CV 3/4; 11/36] START C=0.01, gamma=1.0.........................................\n",
      "[CV 4/4; 11/36] START C=0.01, gamma=1.0.........................................\n",
      "[CV 2/4; 9/36] END C=0.01, gamma=0.01;, score=(train=0.000, test=0.000) total time=   0.2s\n",
      "[CV 1/4; 9/36] END C=0.01, gamma=0.01;, score=(train=0.000, test=0.000) total time=   0.2s\n",
      "[CV 1/4; 12/36] START C=0.01, gamma=10.0........................................\n",
      "[CV 2/4; 12/36] START C=0.01, gamma=10.0........................................\n",
      "[CV 4/4; 9/36] END C=0.01, gamma=0.01;, score=(train=0.000, test=0.000) total time=   0.2s\n",
      "[CV 3/4; 12/36] START C=0.01, gamma=10.0........................................\n",
      "[CV 3/4; 10/36] END C=0.01, gamma=0.1;, score=(train=0.000, test=0.000) total time=   0.2s\n",
      "[CV 4/4; 12/36] START C=0.01, gamma=10.0........................................\n",
      "[CV 2/4; 10/36] END C=0.01, gamma=0.1;, score=(train=0.000, test=0.000) total time=   0.2s\n",
      "[CV 1/4; 13/36] START C=0.1, gamma=0.0001.......................................\n",
      "[CV 4/4; 10/36] END C=0.01, gamma=0.1;, score=(train=0.000, test=0.000) total time=   0.2s\n",
      "[CV 2/4; 13/36] START C=0.1, gamma=0.0001.......................................\n",
      "[CV 1/4; 13/36] END C=0.1, gamma=0.0001;, score=(train=0.000, test=0.000) total time=   0.2s\n",
      "[CV 3/4; 13/36] START C=0.1, gamma=0.0001.......................................\n",
      "[CV 2/4; 13/36] END C=0.1, gamma=0.0001;, score=(train=0.000, test=0.000) total time=   0.2s\n",
      "[CV 4/4; 13/36] START C=0.1, gamma=0.0001.......................................\n",
      "[CV 1/4; 11/36] END C=0.01, gamma=1.0;, score=(train=0.000, test=0.000) total time=   0.3s\n",
      "[CV 1/4; 14/36] START C=0.1, gamma=0.001........................................\n",
      "[CV 2/4; 11/36] END C=0.01, gamma=1.0;, score=(train=0.000, test=0.000) total time=   0.4s\n",
      "[CV 2/4; 14/36] START C=0.1, gamma=0.001........................................\n",
      "[CV 3/4; 11/36] END C=0.01, gamma=1.0;, score=(train=0.000, test=0.000) total time=   0.4s\n",
      "[CV 3/4; 14/36] START C=0.1, gamma=0.001........................................\n",
      "[CV 4/4; 11/36] END C=0.01, gamma=1.0;, score=(train=0.000, test=0.000) total time=   0.4s\n",
      "[CV 4/4; 14/36] START C=0.1, gamma=0.001........................................\n",
      "[CV 3/4; 13/36] END C=0.1, gamma=0.0001;, score=(train=0.000, test=0.000) total time=   0.2s\n",
      "[CV 1/4; 15/36] START C=0.1, gamma=0.01.........................................\n",
      "[CV 1/4; 12/36] END C=0.01, gamma=10.0;, score=(train=0.000, test=0.000) total time=   0.5s\n",
      "[CV 2/4; 15/36] START C=0.1, gamma=0.01.........................................\n",
      "[CV 2/4; 12/36] END C=0.01, gamma=10.0;, score=(train=0.000, test=0.000) total time=   0.5s\n",
      "[CV 3/4; 15/36] START C=0.1, gamma=0.01.........................................\n",
      "[CV 4/4; 12/36] END C=0.01, gamma=10.0;, score=(train=0.000, test=0.000) total time=   0.5s\n",
      "[CV 4/4; 15/36] START C=0.1, gamma=0.01.........................................\n",
      "[CV 4/4; 13/36] END C=0.1, gamma=0.0001;, score=(train=0.000, test=0.000) total time=   0.2s\n",
      "[CV 1/4; 16/36] START C=0.1, gamma=0.1..........................................\n",
      "[CV 3/4; 12/36] END C=0.01, gamma=10.0;, score=(train=0.000, test=0.000) total time=   0.5s\n",
      "[CV 2/4; 16/36] START C=0.1, gamma=0.1..........................................\n",
      "[CV 1/4; 14/36] END C=0.1, gamma=0.001;, score=(train=0.000, test=0.000) total time=   0.2s\n",
      "[CV 3/4; 16/36] START C=0.1, gamma=0.1..........................................\n",
      "[CV 2/4; 14/36] END C=0.1, gamma=0.001;, score=(train=0.000, test=0.000) total time=   0.2s\n",
      "[CV 4/4; 16/36] START C=0.1, gamma=0.1..........................................\n",
      "[CV 3/4; 14/36] END C=0.1, gamma=0.001;, score=(train=0.000, test=0.000) total time=   0.2s\n",
      "[CV 1/4; 17/36] START C=0.1, gamma=1.0..........................................\n",
      "[CV 4/4; 14/36] END C=0.1, gamma=0.001;, score=(train=0.000, test=0.000) total time=   0.2s\n",
      "[CV 2/4; 17/36] START C=0.1, gamma=1.0..........................................\n",
      "[CV 1/4; 15/36] END C=0.1, gamma=0.01;, score=(train=0.000, test=0.000) total time=   0.2s\n",
      "[CV 3/4; 17/36] START C=0.1, gamma=1.0..........................................\n",
      "[CV 3/4; 15/36] END C=0.1, gamma=0.01;, score=(train=0.000, test=0.000) total time=   0.2s\n",
      "[CV 4/4; 17/36] START C=0.1, gamma=1.0..........................................\n",
      "[CV 2/4; 15/36] END C=0.1, gamma=0.01;, score=(train=0.000, test=0.000) total time=   0.2s\n",
      "[CV 1/4; 18/36] START C=0.1, gamma=10.0.........................................\n",
      "[CV 4/4; 15/36] END C=0.1, gamma=0.01;, score=(train=0.000, test=0.000) total time=   0.2s\n",
      "[CV 2/4; 18/36] START C=0.1, gamma=10.0.........................................\n",
      "[CV 1/4; 16/36] END C=0.1, gamma=0.1;, score=(train=0.134, test=0.155) total time=   0.2s\n",
      "[CV 3/4; 18/36] START C=0.1, gamma=10.0.........................................\n",
      "[CV 2/4; 16/36] END C=0.1, gamma=0.1;, score=(train=0.247, test=0.220) total time=   0.2s\n",
      "[CV 4/4; 18/36] START C=0.1, gamma=10.0.........................................\n",
      "[CV 3/4; 16/36] END C=0.1, gamma=0.1;, score=(train=0.125, test=0.123) total time=   0.2s\n",
      "[CV 1/4; 19/36] START C=1.0, gamma=0.0001.......................................\n",
      "[CV 4/4; 16/36] END C=0.1, gamma=0.1;, score=(train=0.275, test=0.222) total time=   0.2s\n",
      "[CV 2/4; 19/36] START C=1.0, gamma=0.0001.......................................\n",
      "[CV 1/4; 19/36] END C=1.0, gamma=0.0001;, score=(train=0.000, test=0.000) total time=   0.2s\n",
      "[CV 3/4; 19/36] START C=1.0, gamma=0.0001.......................................\n",
      "[CV 2/4; 19/36] END C=1.0, gamma=0.0001;, score=(train=0.000, test=0.000) total time=   0.2s\n",
      "[CV 4/4; 19/36] START C=1.0, gamma=0.0001.......................................\n",
      "[CV 1/4; 17/36] END C=0.1, gamma=1.0;, score=(train=0.000, test=0.000) total time=   0.4s\n",
      "[CV 1/4; 20/36] START C=1.0, gamma=0.001........................................\n",
      "[CV 2/4; 17/36] END C=0.1, gamma=1.0;, score=(train=0.000, test=0.000) total time=   0.4s\n",
      "[CV 2/4; 20/36] START C=1.0, gamma=0.001........................................\n",
      "[CV 3/4; 17/36] END C=0.1, gamma=1.0;, score=(train=0.000, test=0.000) total time=   0.4s\n",
      "[CV 3/4; 20/36] START C=1.0, gamma=0.001........................................\n",
      "[CV 4/4; 17/36] END C=0.1, gamma=1.0;, score=(train=0.022, test=0.009) total time=   0.4s\n",
      "[CV 4/4; 20/36] START C=1.0, gamma=0.001........................................\n",
      "[CV 2/4; 18/36] END C=0.1, gamma=10.0;, score=(train=0.000, test=0.000) total time=   0.5s\n",
      "[CV 1/4; 21/36] START C=1.0, gamma=0.01.........................................\n",
      "[CV 1/4; 18/36] END C=0.1, gamma=10.0;, score=(train=0.000, test=0.000) total time=   0.5s\n",
      "[CV 2/4; 21/36] START C=1.0, gamma=0.01.........................................\n",
      "[CV 3/4; 18/36] END C=0.1, gamma=10.0;, score=(train=0.000, test=0.000) total time=   0.5s\n",
      "[CV 3/4; 21/36] START C=1.0, gamma=0.01.........................................\n",
      "[CV 3/4; 19/36] END C=1.0, gamma=0.0001;, score=(train=0.000, test=0.000) total time=   0.2s\n",
      "[CV 4/4; 21/36] START C=1.0, gamma=0.01.........................................\n",
      "[CV 1/4; 20/36] END C=1.0, gamma=0.001;, score=(train=0.000, test=0.000) total time=   0.2s\n",
      "[CV 1/4; 22/36] START C=1.0, gamma=0.1..........................................\n",
      "[CV 4/4; 18/36] END C=0.1, gamma=10.0;, score=(train=0.000, test=0.000) total time=   0.6s\n",
      "[CV 2/4; 22/36] START C=1.0, gamma=0.1..........................................\n",
      "[CV 4/4; 19/36] END C=1.0, gamma=0.0001;, score=(train=0.000, test=0.000) total time=   0.2s\n",
      "[CV 3/4; 22/36] START C=1.0, gamma=0.1..........................................\n",
      "[CV 2/4; 20/36] END C=1.0, gamma=0.001;, score=(train=0.000, test=0.000) total time=   0.2s\n",
      "[CV 4/4; 22/36] START C=1.0, gamma=0.1..........................................\n",
      "[CV 3/4; 20/36] END C=1.0, gamma=0.001;, score=(train=0.000, test=0.000) total time=   0.2s\n",
      "[CV 1/4; 23/36] START C=1.0, gamma=1.0..........................................\n",
      "[CV 4/4; 20/36] END C=1.0, gamma=0.001;, score=(train=0.000, test=0.000) total time=   0.2s\n",
      "[CV 2/4; 23/36] START C=1.0, gamma=1.0..........................................\n",
      "[CV 2/4; 21/36] END C=1.0, gamma=0.01;, score=(train=0.164, test=0.129) total time=   0.2s\n",
      "[CV 3/4; 23/36] START C=1.0, gamma=1.0..........................................\n",
      "[CV 1/4; 21/36] END C=1.0, gamma=0.01;, score=(train=0.055, test=0.028) total time=   0.2s\n",
      "[CV 3/4; 21/36] END C=1.0, gamma=0.01;, score=(train=0.016, test=0.028) total time=   0.2s\n",
      "[CV 4/4; 23/36] START C=1.0, gamma=1.0..........................................\n",
      "[CV 1/4; 24/36] START C=1.0, gamma=10.0.........................................\n",
      "[CV 4/4; 21/36] END C=1.0, gamma=0.01;, score=(train=0.198, test=0.111) total time=   0.3s\n",
      "[CV 2/4; 24/36] START C=1.0, gamma=10.0.........................................\n",
      "[CV 1/4; 22/36] END C=1.0, gamma=0.1;, score=(train=0.504, test=0.453) total time=   0.3s\n",
      "[CV 3/4; 24/36] START C=1.0, gamma=10.0.........................................\n",
      "[CV 3/4; 22/36] END C=1.0, gamma=0.1;, score=(train=0.484, test=0.458) total time=   0.3s\n",
      "[CV 4/4; 24/36] START C=1.0, gamma=10.0.........................................\n",
      "[CV 2/4; 22/36] END C=1.0, gamma=0.1;, score=(train=0.541, test=0.445) total time=   0.3s\n",
      "[CV 4/4; 22/36] END C=1.0, gamma=0.1;, score=(train=0.543, test=0.445) total time=   0.2s\n",
      "[CV 1/4; 25/36] START C=10.0, gamma=0.0001......................................\n",
      "[CV 2/4; 25/36] START C=10.0, gamma=0.0001......................................\n",
      "[CV 1/4; 23/36] END C=1.0, gamma=1.0;, score=(train=0.943, test=0.560) total time=   0.5s\n",
      "[CV 3/4; 25/36] START C=10.0, gamma=0.0001......................................\n",
      "[CV 1/4; 25/36] END C=10.0, gamma=0.0001;, score=(train=0.000, test=0.000) total time=   0.3s\n",
      "[CV 2/4; 25/36] END C=10.0, gamma=0.0001;, score=(train=0.000, test=0.000) total time=   0.2s\n",
      "[CV 4/4; 25/36] START C=10.0, gamma=0.0001......................................\n",
      "[CV 1/4; 26/36] START C=10.0, gamma=0.001.......................................\n",
      "[CV 2/4; 23/36] END C=1.0, gamma=1.0;, score=(train=0.943, test=0.616) total time=   0.5s\n",
      "[CV 2/4; 26/36] START C=10.0, gamma=0.001.......................................\n",
      "[CV 3/4; 23/36] END C=1.0, gamma=1.0;, score=(train=0.948, test=0.562) total time=   0.5s\n",
      "[CV 3/4; 26/36] START C=10.0, gamma=0.001.......................................\n",
      "[CV 4/4; 23/36] END C=1.0, gamma=1.0;, score=(train=0.940, test=0.521) total time=   0.4s\n",
      "[CV 4/4; 26/36] START C=10.0, gamma=0.001.......................................\n",
      "[CV 1/4; 24/36] END C=1.0, gamma=10.0;, score=(train=0.998, test=0.418) total time=   0.5s\n",
      "[CV 1/4; 27/36] START C=10.0, gamma=0.01........................................\n",
      "[CV 2/4; 24/36] END C=1.0, gamma=10.0;, score=(train=0.999, test=0.441) total time=   0.5s\n",
      "[CV 2/4; 27/36] START C=10.0, gamma=0.01........................................\n",
      "[CV 1/4; 26/36] END C=10.0, gamma=0.001;, score=(train=0.000, test=0.000) total time=   0.3s\n",
      "[CV 3/4; 24/36] END C=1.0, gamma=10.0;, score=(train=0.999, test=0.388) total time=   0.6s\n",
      "[CV 4/4; 24/36] END C=1.0, gamma=10.0;, score=(train=0.999, test=0.428) total time=   0.5s\n",
      "[CV 3/4; 27/36] START C=10.0, gamma=0.01........................................\n",
      "[CV 4/4; 27/36] START C=10.0, gamma=0.01........................................\n",
      "[CV 1/4; 28/36] START C=10.0, gamma=0.1.........................................\n",
      "[CV 3/4; 25/36] END C=10.0, gamma=0.0001;, score=(train=0.000, test=0.000) total time=   0.3s\n",
      "[CV 2/4; 28/36] START C=10.0, gamma=0.1.........................................\n",
      "[CV 4/4; 25/36] END C=10.0, gamma=0.0001;, score=(train=0.000, test=0.000) total time=   0.3s\n",
      "[CV 3/4; 28/36] START C=10.0, gamma=0.1.........................................\n",
      "[CV 2/4; 26/36] END C=10.0, gamma=0.001;, score=(train=0.000, test=0.000) total time=   0.3s\n",
      "[CV 4/4; 28/36] START C=10.0, gamma=0.1.........................................\n",
      "[CV 4/4; 26/36] END C=10.0, gamma=0.001;, score=(train=0.000, test=0.000) total time=   0.3s\n",
      "[CV 1/4; 29/36] START C=10.0, gamma=1.0.........................................\n",
      "[CV 3/4; 26/36] END C=10.0, gamma=0.001;, score=(train=0.000, test=0.000) total time=   0.3s\n",
      "[CV 2/4; 29/36] START C=10.0, gamma=1.0.........................................\n",
      "[CV 1/4; 27/36] END C=10.0, gamma=0.01;, score=(train=0.413, test=0.369) total time=   0.3s\n",
      "[CV 3/4; 29/36] START C=10.0, gamma=1.0.........................................\n",
      "[CV 2/4; 27/36] END C=10.0, gamma=0.01;, score=(train=0.426, test=0.384) total time=   0.2s\n",
      "[CV 4/4; 29/36] START C=10.0, gamma=1.0.........................................\n",
      "[CV 2/4; 28/36] END C=10.0, gamma=0.1;, score=(train=0.717, test=0.552) total time=   0.2s\n",
      "[CV 1/4; 30/36] START C=10.0, gamma=10.0........................................\n",
      "[CV 3/4; 27/36] END C=10.0, gamma=0.01;, score=(train=0.392, test=0.411) total time=   0.2s\n",
      "[CV 1/4; 28/36] END C=10.0, gamma=0.1;, score=(train=0.711, test=0.552) total time=   0.2s\n",
      "[CV 2/4; 30/36] START C=10.0, gamma=10.0........................................\n",
      "[CV 3/4; 30/36] START C=10.0, gamma=10.0........................................\n",
      "[CV 4/4; 27/36] END C=10.0, gamma=0.01;, score=(train=0.428, test=0.391) total time=   0.2s\n",
      "[CV 4/4; 30/36] START C=10.0, gamma=10.0........................................\n",
      "[CV 4/4; 28/36] END C=10.0, gamma=0.1;, score=(train=0.720, test=0.522) total time=   0.2s\n",
      "[CV 1/4; 31/36] START C=100.0, gamma=0.0001.....................................\n",
      "[CV 3/4; 28/36] END C=10.0, gamma=0.1;, score=(train=0.709, test=0.552) total time=   0.3s\n",
      "[CV 2/4; 31/36] START C=100.0, gamma=0.0001.....................................\n",
      "[CV 1/4; 29/36] END C=10.0, gamma=1.0;, score=(train=0.997, test=0.610) total time=   0.4s\n",
      "[CV 3/4; 31/36] START C=100.0, gamma=0.0001.....................................\n",
      "[CV 2/4; 29/36] END C=10.0, gamma=1.0;, score=(train=0.998, test=0.652) total time=   0.4s\n",
      "[CV 4/4; 31/36] START C=100.0, gamma=0.0001.....................................\n",
      "[CV 3/4; 29/36] END C=10.0, gamma=1.0;, score=(train=0.998, test=0.567) total time=   0.4s\n",
      "[CV 1/4; 32/36] START C=100.0, gamma=0.001......................................\n",
      "[CV 1/4; 31/36] END C=100.0, gamma=0.0001;, score=(train=0.000, test=0.000) total time=   0.3s\n",
      "[CV 2/4; 32/36] START C=100.0, gamma=0.001......................................\n",
      "[CV 2/4; 31/36] END C=100.0, gamma=0.0001;, score=(train=0.000, test=0.000) total time=   0.3s\n",
      "[CV 3/4; 32/36] START C=100.0, gamma=0.001......................................\n",
      "[CV 4/4; 29/36] END C=10.0, gamma=1.0;, score=(train=0.998, test=0.584) total time=   0.5s\n",
      "[CV 4/4; 32/36] START C=100.0, gamma=0.001......................................\n",
      "[CV 1/4; 30/36] END C=10.0, gamma=10.0;, score=(train=1.000, test=0.430) total time=   0.5s\n",
      "[CV 1/4; 33/36] START C=100.0, gamma=0.01.......................................\n",
      "[CV 4/4; 30/36] END C=10.0, gamma=10.0;, score=(train=1.000, test=0.445) total time=   0.5s\n",
      "[CV 2/4; 33/36] START C=100.0, gamma=0.01.......................................\n",
      "[CV 2/4; 30/36] END C=10.0, gamma=10.0;, score=(train=1.000, test=0.458) total time=   0.5s\n",
      "[CV 3/4; 33/36] START C=100.0, gamma=0.01.......................................\n",
      "[CV 3/4; 30/36] END C=10.0, gamma=10.0;, score=(train=1.000, test=0.406) total time=   0.5s\n",
      "[CV 4/4; 33/36] START C=100.0, gamma=0.01.......................................\n",
      "[CV 4/4; 31/36] END C=100.0, gamma=0.0001;, score=(train=0.000, test=0.000) total time=   0.3s\n",
      "[CV 2/4; 32/36] END C=100.0, gamma=0.001;, score=(train=0.235, test=0.180) total time=   0.2s\n",
      "[CV 3/4; 31/36] END C=100.0, gamma=0.0001;, score=(train=0.000, test=0.000) total time=   0.3s\n",
      "[CV 1/4; 34/36] START C=100.0, gamma=0.1........................................\n",
      "[CV 2/4; 34/36] START C=100.0, gamma=0.1........................................\n",
      "[CV 3/4; 34/36] START C=100.0, gamma=0.1........................................\n",
      "[CV 1/4; 32/36] END C=100.0, gamma=0.001;, score=(train=0.116, test=0.130) total time=   0.2s\n",
      "[CV 4/4; 34/36] START C=100.0, gamma=0.1........................................\n",
      "[CV 3/4; 32/36] END C=100.0, gamma=0.001;, score=(train=0.078, test=0.115) total time=   0.2s\n",
      "[CV 1/4; 35/36] START C=100.0, gamma=1.0........................................\n",
      "[CV 4/4; 32/36] END C=100.0, gamma=0.001;, score=(train=0.266, test=0.194) total time=   0.2s\n",
      "[CV 2/4; 35/36] START C=100.0, gamma=1.0........................................\n",
      "[CV 1/4; 33/36] END C=100.0, gamma=0.01;, score=(train=0.490, test=0.448) total time=   0.3s\n",
      "[CV 3/4; 35/36] START C=100.0, gamma=1.0........................................\n",
      "[CV 3/4; 33/36] END C=100.0, gamma=0.01;, score=(train=0.498, test=0.486) total time=   0.3s\n",
      "[CV 4/4; 35/36] START C=100.0, gamma=1.0........................................\n",
      "[CV 2/4; 33/36] END C=100.0, gamma=0.01;, score=(train=0.528, test=0.447) total time=   0.4s\n",
      "[CV 4/4; 33/36] END C=100.0, gamma=0.01;, score=(train=0.537, test=0.464) total time=   0.3s\n",
      "[CV 1/4; 36/36] START C=100.0, gamma=10.0.......................................\n",
      "[CV 2/4; 36/36] START C=100.0, gamma=10.0.......................................\n",
      "[CV 1/4; 34/36] END C=100.0, gamma=0.1;, score=(train=0.905, test=0.610) total time=   0.5s\n",
      "[CV 3/4; 36/36] START C=100.0, gamma=10.0.......................................\n",
      "[CV 2/4; 34/36] END C=100.0, gamma=0.1;, score=(train=0.893, test=0.657) total time=   0.5s\n",
      "[CV 4/4; 34/36] END C=100.0, gamma=0.1;, score=(train=0.910, test=0.604) total time=   0.5s\n",
      "[CV 4/4; 36/36] START C=100.0, gamma=10.0.......................................\n",
      "[CV 3/4; 34/36] END C=100.0, gamma=0.1;, score=(train=0.896, test=0.604) total time=   0.5s\n",
      "[CV 1/4; 35/36] END C=100.0, gamma=1.0;, score=(train=1.000, test=0.605) total time=   0.5s\n",
      "[CV 2/4; 35/36] END C=100.0, gamma=1.0;, score=(train=1.000, test=0.647) total time=   0.4s\n",
      "[CV 3/4; 35/36] END C=100.0, gamma=1.0;, score=(train=1.000, test=0.567) total time=   0.4s\n",
      "[CV 4/4; 35/36] END C=100.0, gamma=1.0;, score=(train=1.000, test=0.592) total time=   0.5s\n",
      "[CV 2/4; 36/36] END C=100.0, gamma=10.0;, score=(train=1.000, test=0.458) total time=   0.6s\n",
      "[CV 1/4; 36/36] END C=100.0, gamma=10.0;, score=(train=1.000, test=0.430) total time=   0.5s\n",
      "[CV 3/4; 36/36] END C=100.0, gamma=10.0;, score=(train=1.000, test=0.406) total time=   0.5s\n",
      "[CV 4/4; 36/36] END C=100.0, gamma=10.0;, score=(train=1.000, test=0.445) total time=   0.5s\n"
     ]
    },
    {
     "data": {
      "text/html": [
       "<style>#sk-container-id-2 {color: black;}#sk-container-id-2 pre{padding: 0;}#sk-container-id-2 div.sk-toggleable {background-color: white;}#sk-container-id-2 label.sk-toggleable__label {cursor: pointer;display: block;width: 100%;margin-bottom: 0;padding: 0.3em;box-sizing: border-box;text-align: center;}#sk-container-id-2 label.sk-toggleable__label-arrow:before {content: \"▸\";float: left;margin-right: 0.25em;color: #696969;}#sk-container-id-2 label.sk-toggleable__label-arrow:hover:before {color: black;}#sk-container-id-2 div.sk-estimator:hover label.sk-toggleable__label-arrow:before {color: black;}#sk-container-id-2 div.sk-toggleable__content {max-height: 0;max-width: 0;overflow: hidden;text-align: left;background-color: #f0f8ff;}#sk-container-id-2 div.sk-toggleable__content pre {margin: 0.2em;color: black;border-radius: 0.25em;background-color: #f0f8ff;}#sk-container-id-2 input.sk-toggleable__control:checked~div.sk-toggleable__content {max-height: 200px;max-width: 100%;overflow: auto;}#sk-container-id-2 input.sk-toggleable__control:checked~label.sk-toggleable__label-arrow:before {content: \"▾\";}#sk-container-id-2 div.sk-estimator input.sk-toggleable__control:checked~label.sk-toggleable__label {background-color: #d4ebff;}#sk-container-id-2 div.sk-label input.sk-toggleable__control:checked~label.sk-toggleable__label {background-color: #d4ebff;}#sk-container-id-2 input.sk-hidden--visually {border: 0;clip: rect(1px 1px 1px 1px);clip: rect(1px, 1px, 1px, 1px);height: 1px;margin: -1px;overflow: hidden;padding: 0;position: absolute;width: 1px;}#sk-container-id-2 div.sk-estimator {font-family: monospace;background-color: #f0f8ff;border: 1px dotted black;border-radius: 0.25em;box-sizing: border-box;margin-bottom: 0.5em;}#sk-container-id-2 div.sk-estimator:hover {background-color: #d4ebff;}#sk-container-id-2 div.sk-parallel-item::after {content: \"\";width: 100%;border-bottom: 1px solid gray;flex-grow: 1;}#sk-container-id-2 div.sk-label:hover label.sk-toggleable__label {background-color: #d4ebff;}#sk-container-id-2 div.sk-serial::before {content: \"\";position: absolute;border-left: 1px solid gray;box-sizing: border-box;top: 0;bottom: 0;left: 50%;z-index: 0;}#sk-container-id-2 div.sk-serial {display: flex;flex-direction: column;align-items: center;background-color: white;padding-right: 0.2em;padding-left: 0.2em;position: relative;}#sk-container-id-2 div.sk-item {position: relative;z-index: 1;}#sk-container-id-2 div.sk-parallel {display: flex;align-items: stretch;justify-content: center;background-color: white;position: relative;}#sk-container-id-2 div.sk-item::before, #sk-container-id-2 div.sk-parallel-item::before {content: \"\";position: absolute;border-left: 1px solid gray;box-sizing: border-box;top: 0;bottom: 0;left: 50%;z-index: -1;}#sk-container-id-2 div.sk-parallel-item {display: flex;flex-direction: column;z-index: 1;position: relative;background-color: white;}#sk-container-id-2 div.sk-parallel-item:first-child::after {align-self: flex-end;width: 50%;}#sk-container-id-2 div.sk-parallel-item:last-child::after {align-self: flex-start;width: 50%;}#sk-container-id-2 div.sk-parallel-item:only-child::after {width: 0;}#sk-container-id-2 div.sk-dashed-wrapped {border: 1px dashed gray;margin: 0 0.4em 0.5em 0.4em;box-sizing: border-box;padding-bottom: 0.4em;background-color: white;}#sk-container-id-2 div.sk-label label {font-family: monospace;font-weight: bold;display: inline-block;line-height: 1.2em;}#sk-container-id-2 div.sk-label-container {text-align: center;}#sk-container-id-2 div.sk-container {/* jupyter's `normalize.less` sets `[hidden] { display: none; }` but bootstrap.min.css set `[hidden] { display: none !important; }` so we also need the `!important` here to be able to override the default hidden behavior on the sphinx rendered scikit-learn.org. See: https://github.com/scikit-learn/scikit-learn/issues/21755 */display: inline-block !important;position: relative;}#sk-container-id-2 div.sk-text-repr-fallback {display: none;}</style><div id=\"sk-container-id-2\" class=\"sk-top-container\"><div class=\"sk-text-repr-fallback\"><pre>GridSearchCV(cv=4, estimator=SVC(random_state=75), n_jobs=-1,\n",
       "             param_grid={&#x27;C&#x27;: array([1.e-03, 1.e-02, 1.e-01, 1.e+00, 1.e+01, 1.e+02]),\n",
       "                         &#x27;gamma&#x27;: array([1.e-04, 1.e-03, 1.e-02, 1.e-01, 1.e+00, 1.e+01])},\n",
       "             return_train_score=True, scoring=&#x27;f1&#x27;, verbose=10)</pre><b>In a Jupyter environment, please rerun this cell to show the HTML representation or trust the notebook. <br />On GitHub, the HTML representation is unable to render, please try loading this page with nbviewer.org.</b></div><div class=\"sk-container\" hidden><div class=\"sk-item sk-dashed-wrapped\"><div class=\"sk-label-container\"><div class=\"sk-label sk-toggleable\"><input class=\"sk-toggleable__control sk-hidden--visually\" id=\"sk-estimator-id-4\" type=\"checkbox\" ><label for=\"sk-estimator-id-4\" class=\"sk-toggleable__label sk-toggleable__label-arrow\">GridSearchCV</label><div class=\"sk-toggleable__content\"><pre>GridSearchCV(cv=4, estimator=SVC(random_state=75), n_jobs=-1,\n",
       "             param_grid={&#x27;C&#x27;: array([1.e-03, 1.e-02, 1.e-01, 1.e+00, 1.e+01, 1.e+02]),\n",
       "                         &#x27;gamma&#x27;: array([1.e-04, 1.e-03, 1.e-02, 1.e-01, 1.e+00, 1.e+01])},\n",
       "             return_train_score=True, scoring=&#x27;f1&#x27;, verbose=10)</pre></div></div></div><div class=\"sk-parallel\"><div class=\"sk-parallel-item\"><div class=\"sk-item\"><div class=\"sk-label-container\"><div class=\"sk-label sk-toggleable\"><input class=\"sk-toggleable__control sk-hidden--visually\" id=\"sk-estimator-id-5\" type=\"checkbox\" ><label for=\"sk-estimator-id-5\" class=\"sk-toggleable__label sk-toggleable__label-arrow\">estimator: SVC</label><div class=\"sk-toggleable__content\"><pre>SVC(random_state=75)</pre></div></div></div><div class=\"sk-serial\"><div class=\"sk-item\"><div class=\"sk-estimator sk-toggleable\"><input class=\"sk-toggleable__control sk-hidden--visually\" id=\"sk-estimator-id-6\" type=\"checkbox\" ><label for=\"sk-estimator-id-6\" class=\"sk-toggleable__label sk-toggleable__label-arrow\">SVC</label><div class=\"sk-toggleable__content\"><pre>SVC(random_state=75)</pre></div></div></div></div></div></div></div></div></div></div>"
      ],
      "text/plain": [
       "GridSearchCV(cv=4, estimator=SVC(random_state=75), n_jobs=-1,\n",
       "             param_grid={'C': array([1.e-03, 1.e-02, 1.e-01, 1.e+00, 1.e+01, 1.e+02]),\n",
       "                         'gamma': array([1.e-04, 1.e-03, 1.e-02, 1.e-01, 1.e+00, 1.e+01])},\n",
       "             return_train_score=True, scoring='f1', verbose=10)"
      ]
     },
     "execution_count": 11,
     "metadata": {},
     "output_type": "execute_result"
    }
   ],
   "source": [
    "from sklearn.metrics import accuracy_score\n",
    "from sklearn.model_selection import GridSearchCV\n",
    "rbf_grid_search = GridSearchCV(\n",
    "    estimator=rbf_clf,\n",
    "    param_grid=rbf_param_grid,\n",
    "    scoring='f1',\n",
    "    return_train_score=True,\n",
    "    cv=4,\n",
    "    verbose=10,\n",
    "    n_jobs=-1)\n",
    "\n",
    "rbf_grid_search.fit(X_train, y_train)"
   ]
  },
  {
   "cell_type": "code",
   "execution_count": 14,
   "metadata": {},
   "outputs": [
    {
     "data": {
      "text/plain": [
       "({'C': 100.0, 'gamma': 0.1}, 0.618651830160868)"
      ]
     },
     "execution_count": 14,
     "metadata": {},
     "output_type": "execute_result"
    }
   ],
   "source": [
    "rbf_grid_search.best_params_, rbf_grid_search.best_score_"
   ]
  },
  {
   "cell_type": "markdown",
   "metadata": {},
   "source": [
    "Learning curve"
   ]
  },
  {
   "cell_type": "code",
   "execution_count": 18,
   "metadata": {},
   "outputs": [],
   "source": [
    "X_train_lc,X_val_lc,y_train_lc,y_val_lc = train_test_split(X_train,y_train,test_size=0.2,random_state=random_state)\n",
    "\n",
    "model = SVC(kernel='rbf',gamma=0.1,random_state=random_state,C= 100)\n",
    "#Select a sample of X_train, with the corresponding y_train\n",
    "train_acc_lc = []\n",
    "val_acc_lc = []\n",
    "\n",
    "from sklearn.metrics import f1_score\n",
    "for sample in np.linspace(0.01,0.99,98):\n",
    "    X_train_sample,X_out_sample,y_train_sample,y_out_sample = train_test_split(X_train_lc,y_train_lc,test_size=float(1 - sample),random_state=random_state)\n",
    "    \n",
    "    \n",
    "    model.fit(X_train_sample,y_train_sample)\n",
    "    \n",
    "    y_pred = model.predict(X_val_lc)\n",
    "    #Train accuracy\n",
    "    y_pred_train = model.predict(X_train_sample)\n",
    "    train_acc_lc.append(f1_score(y_train_sample,y_pred_train))\n",
    "    \n",
    "    #Validation accuracy\n",
    "    val_acc_lc.append(f1_score(y_val_lc,y_pred))"
   ]
  },
  {
   "cell_type": "code",
   "execution_count": 19,
   "metadata": {},
   "outputs": [
    {
     "data": {
      "text/plain": [
       "<matplotlib.legend.Legend at 0x1650b1cd0>"
      ]
     },
     "execution_count": 19,
     "metadata": {},
     "output_type": "execute_result"
    },
    {
     "data": {
      "image/png": "[encoded data removed]",
      "text/plain": [
       "<Figure size 1000x600 with 1 Axes>"
      ]
     },
     "metadata": {},
     "output_type": "display_data"
    }
   ],
   "source": [
    "#Plot\n",
    "plt.figure(figsize=(10,6))\n",
    "plt.plot(np.linspace(0.01,0.99,98),train_acc_lc,label='train')\n",
    "plt.plot(np.linspace(0.01,0.99,98),val_acc_lc,label='validation')\n",
    "plt.xlabel('sample size')\n",
    "plt.ylabel('f1')\n",
    "plt.legend()"
   ]
  },
  {
   "cell_type": "markdown",
   "metadata": {},
   "source": [
    "## Score on test"
   ]
  },
  {
   "cell_type": "code",
   "execution_count": 20,
   "metadata": {},
   "outputs": [
    {
     "name": "stdout",
     "output_type": "stream",
     "text": [
      "0.5835411471321696\n"
     ]
    }
   ],
   "source": [
    "model = SVC(kernel='rbf',gamma=0.1,random_state=random_state,C= 100)\n",
    "model.fit(X_train,y_train)\n",
    "y_pred = model.predict(X_test)\n",
    "print(f1_score(y_test,y_pred))"
   ]
  }
 ],
 "metadata": {
  "kernelspec": {
   "display_name": "base",
   "language": "python",
   "name": "python3"
  },
  "language_info": {
   "codemirror_mode": {
    "name": "ipython",
    "version": 3
   },
   "file_extension": ".py",
   "mimetype": "text/x-python",
   "name": "python",
   "nbconvert_exporter": "python",
   "pygments_lexer": "ipython3",
   "version": "3.11.4"
  },
  "orig_nbformat": 4
 },
 "nbformat": 4,
 "nbformat_minor": 2
}
